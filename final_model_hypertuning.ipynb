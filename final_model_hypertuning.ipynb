{
 "cells": [
  {
   "cell_type": "code",
   "execution_count": 3,
   "id": "6170c57a",
   "metadata": {},
   "outputs": [
    {
     "name": "stderr",
     "output_type": "stream",
     "text": [
      "c:\\Users\\Lenovo\\AppData\\Local\\Programs\\Python\\Python313\\Lib\\site-packages\\tqdm\\auto.py:21: TqdmWarning: IProgress not found. Please update jupyter and ipywidgets. See https://ipywidgets.readthedocs.io/en/stable/user_install.html\n",
      "  from .autonotebook import tqdm as notebook_tqdm\n"
     ]
    }
   ],
   "source": [
    "import pandas as pd\n",
    "import numpy as np\n",
    "import lightgbm as lgb\n",
    "import optuna \n",
    "from sklearn.model_selection import StratifiedKFold, train_test_split \n",
    "from sklearn.preprocessing import LabelEncoder\n",
    "from sklearn.metrics import roc_auc_score, precision_score, recall_score, f1_score\n",
    "import matplotlib.pyplot as plt\n",
    "import seaborn as sns\n",
    "import gc\n",
    "import warnings\n"
   ]
  },
  {
   "cell_type": "code",
   "execution_count": 4,
   "id": "f9a7dcd8",
   "metadata": {},
   "outputs": [],
   "source": [
    "# ignore warning for cleaner output\n",
    "warnings.filterwarnings('ignore')\n",
    "# same goes for otuna for error handling \n",
    "optuna.logging.set_verbosity(optuna.logging.WARNING)"
   ]
  },
  {
   "cell_type": "markdown",
   "id": "219fd407",
   "metadata": {},
   "source": [
    "Load data"
   ]
  },
  {
   "cell_type": "code",
   "execution_count": 5,
   "id": "a11e59b1",
   "metadata": {},
   "outputs": [
    {
     "name": "stdout",
     "output_type": "stream",
     "text": [
      "Data loaded successfully.\n"
     ]
    }
   ],
   "source": [
    "try:\n",
    "    # Training data\n",
    "    orders = pd.read_csv('Train/orders.csv')\n",
    "    train_customers = pd.read_csv('Train/train_customers.csv')\n",
    "    train_locations = pd.read_csv('Train/train_locations.csv')\n",
    "    vendors = pd.read_csv('Train/vendors.csv')\n",
    "\n",
    "    # Testing data\n",
    "    test_customers = pd.read_csv('Test/test_customers.csv')\n",
    "    test_locations = pd.read_csv('Test/test_locations.csv')\n",
    "    \n",
    "    # Sample submission for structure\n",
    "    sample_submission = pd.read_csv('SampleSubmission.csv')\n",
    "    print(\"Data loaded successfully.\")\n",
    "except FileNotFoundError as e:\n",
    "    print(f\"Error loading files: {e}\")\n",
    "    print(\"Please ensure your data files are in the 'Train' and 'Test' subdirectories.\")\n",
    "    exit()"
   ]
  },
  {
   "cell_type": "code",
   "execution_count": null,
   "id": "923ea36e",
   "metadata": {},
   "outputs": [
    {
     "name": "stdout",
     "output_type": "stream",
     "text": [
      "Step 2/11: Optimizing memory and cleaning columns...\n",
      "Memory optimized and columns cleaned.\n"
     ]
    }
   ],
   "source": [
    "# --- Memory Optimization & Initial Cleaning ---\n",
    "orders.rename(columns={'LOCATION_NUMBER': 'location_number'}, inplace=True) \n",
    "orders = orders.drop(columns=['vendor_rating', 'LOCATION_TYPE'], errors='ignore')\n",
    "\n",
    "# Convert columns to memory-efficient types\n",
    "orders['item_count'] = pd.to_numeric(orders['item_count'], errors='coerce').astype('float16')\n",
    "orders['grand_total'] = pd.to_numeric(orders['grand_total'], errors='coerce').astype('float32')\n",
    "train_locations['location_number'] = pd.to_numeric(train_locations['location_number'], errors='coerce').astype('int8')\n",
    "test_locations['location_number'] = pd.to_numeric(test_locations['location_number'], errors='coerce').astype('int8')\n",
    "orders['location_number'] = pd.to_numeric(orders['location_number'], errors='coerce').astype('int8')\n",
    "\n",
    "vendors['vendor_id'] = vendors['id']\n",
    "vendors['vendor_rating'] = pd.to_numeric(vendors['vendor_rating'], errors='coerce').astype('float16')\n",
    "print(\"Memory optimized and columns cleaned.\")"
   ]
  },
  {
   "cell_type": "markdown",
   "id": "8b251091",
   "metadata": {},
   "source": [
    " Advanced Feature Engineering"
   ]
  },
  {
   "cell_type": "code",
   "execution_count": 7,
   "id": "20c42fd0",
   "metadata": {},
   "outputs": [],
   "source": [
    "# Time-based features\n",
    "orders['created_at'] = pd.to_datetime(orders['created_at'])\n",
    "orders['order_hour'] = orders['created_at'].dt.hour\n",
    "orders['order_dayofweek'] = orders['created_at'].dt.dayofweek"
   ]
  },
  {
   "cell_type": "code",
   "execution_count": 8,
   "id": "850c6993",
   "metadata": {},
   "outputs": [],
   "source": [
    "# Create aggregated time features \n",
    "customer_time_prefs = orders.groupby('customer_id').agg(\n",
    "    cust_avg_hour=('order_hour', 'mean'),\n",
    "    cust_avg_day=('order_dayofweek', 'mean')\n",
    ")\n",
    "vendor_time_prefs = orders.groupby('vendor_id').agg(\n",
    "    vendor_avg_hour=('order_hour', 'mean'),\n",
    "    vendor_avg_day=('order_dayofweek', 'mean')\n",
    ")"
   ]
  },
  {
   "cell_type": "code",
   "execution_count": 9,
   "id": "e81b559a",
   "metadata": {},
   "outputs": [],
   "source": [
    "# Customer behavior features\n",
    "orders = orders.sort_values(['customer_id', 'created_at'])\n",
    "orders['time_since_last_order'] = orders.groupby('customer_id')['created_at'].diff().dt.total_seconds() / 3600 # in hours\n",
    "customer_time_agg = orders.groupby('customer_id')['time_since_last_order'].agg(['mean', 'std']).rename(columns={'mean': 'cust_mean_time_between_orders', 'std': 'cust_std_time_between_orders'})\n"
   ]
  },
  {
   "cell_type": "code",
   "execution_count": 10,
   "id": "8ab8ae3d",
   "metadata": {},
   "outputs": [],
   "source": [
    "# Popularity features\n",
    "vendor_popularity = orders['vendor_id'].value_counts().to_frame('vendor_popularity_rank')\n",
    "customer_spending_rank = orders.groupby('customer_id')['grand_total'].sum().rank(ascending=False).to_frame('customer_spending_rank')"
   ]
  },
  {
   "cell_type": "code",
   "execution_count": 11,
   "id": "b07db0c0",
   "metadata": {},
   "outputs": [],
   "source": [
    "# --- Vendor Features ---\n",
    "vendors['vendor_tag_count'] = vendors['vendor_tag_name'].str.count(',') + 1\n",
    "vendors_cleaned = vendors[['vendor_id', 'latitude', 'longitude', 'vendor_rating', 'serving_distance', 'prepration_time', 'vendor_tag_count']].rename(columns={'latitude': 'vendor_latitude', 'longitude': 'vendor_longitude'})\n",
    "vendors_cleaned = vendors_cleaned.merge(vendor_popularity, left_on='vendor_id', right_index=True, how='left')\n",
    "vendors_cleaned = vendors_cleaned.merge(vendor_time_prefs, left_on='vendor_id', right_index=True, how='left')"
   ]
  },
  {
   "cell_type": "code",
   "execution_count": 12,
   "id": "0295b738",
   "metadata": {},
   "outputs": [],
   "source": [
    "# --- Customer Features ---\n",
    "all_customers = pd.concat([train_customers, test_customers], ignore_index=True)\n",
    "all_customers['dob'] = pd.to_numeric(all_customers['dob'], errors='coerce')\n",
    "all_customers['age'] = 2025 - all_customers['dob']\n",
    "all_customers['age'].fillna(all_customers['age'].median(), inplace=True)\n",
    "all_customers['created_at'] = pd.to_datetime(all_customers['created_at'], errors='coerce')\n",
    "all_customers['account_age_days'] = (pd.to_datetime('2025-08-01') - all_customers['created_at']).dt.days\n",
    "all_customers['gender'].fillna('Unknown', inplace=True)\n",
    "le_gender = LabelEncoder()\n",
    "all_customers['gender_encoded'] = le_gender.fit_transform(all_customers['gender'])\n",
    "customers_cleaned = all_customers[['customer_id', 'age', 'account_age_days', 'gender_encoded']]\n",
    "customers_cleaned = customers_cleaned.merge(customer_spending_rank, left_on='customer_id', right_index=True, how='left')\n",
    "customers_cleaned = customers_cleaned.merge(customer_time_agg, left_on='customer_id', right_index=True, how='left')\n",
    "customers_cleaned = customers_cleaned.merge(customer_time_prefs, left_on='customer_id', right_index=True, how='left')"
   ]
  },
  {
   "cell_type": "code",
   "execution_count": 13,
   "id": "28a9782d",
   "metadata": {},
   "outputs": [],
   "source": [
    "# --- Location Features ---\n",
    "all_locations = pd.concat([train_locations, test_locations], ignore_index=True)"
   ]
  },
  {
   "cell_type": "code",
   "execution_count": 14,
   "id": "5fdabe0d",
   "metadata": {},
   "outputs": [],
   "source": [
    "# --- Merge Orders with Features ---\n",
    "train_df = orders.merge(customers_cleaned, on='customer_id', how='left')\n",
    "train_df = train_df.merge(all_locations, on=['customer_id', 'location_number'], how='left')\n",
    "train_df = train_df.merge(vendors_cleaned, on='vendor_id', how='left')\n",
    "train_df['target'] = 1"
   ]
  },
  {
   "cell_type": "markdown",
   "id": "6e8e65c6",
   "metadata": {},
   "source": [
    "Negative Sampling "
   ]
  },
  {
   "cell_type": "code",
   "execution_count": 15,
   "id": "f0b94a3c",
   "metadata": {},
   "outputs": [],
   "source": [
    "\n",
    "all_vendor_ids = vendors['vendor_id'].unique()\n",
    "customer_vendor_pairs = train_df[['customer_id', 'vendor_id']].drop_duplicates()\n",
    "all_combinations = pd.DataFrame(np.array(np.meshgrid(train_df['customer_id'].unique(), all_vendor_ids)).T.reshape(-1, 2), columns=['customer_id', 'vendor_id'])\n",
    "negative_samples = all_combinations.merge(customer_vendor_pairs, on=['customer_id', 'vendor_id'], how='left', indicator=True)\n",
    "negative_samples = negative_samples[negative_samples['_merge'] == 'left_only']\n",
    "num_positive_samples = len(train_df)\n",
    "negative_samples = negative_samples.sample(n=num_positive_samples * 2, random_state=42)\n",
    "negative_samples['target'] = 0\n",
    "train_full = pd.concat([train_df, negative_samples], ignore_index=True)"
   ]
  },
  {
   "cell_type": "code",
   "execution_count": 16,
   "id": "4c6df8f8",
   "metadata": {},
   "outputs": [],
   "source": [
    "# Fill in missing features for the negative samples\n",
    "cols_to_drop = [col for col in customers_cleaned.columns if col != 'customer_id'] + \\\n",
    "               [col for col in vendors_cleaned.columns if col != 'vendor_id'] + \\\n",
    "               ['latitude', 'longitude', 'location_type']\n",
    "train_full = train_full.drop(columns=[col for col in cols_to_drop if col in train_full.columns])\n",
    "train_full = train_full.merge(customers_cleaned, on='customer_id', how='left')\n",
    "primary_locations = all_locations[all_locations['location_number'] == 0]\n",
    "train_full = train_full.merge(primary_locations.drop(columns='location_number'), on='customer_id', how='left')\n",
    "train_full = train_full.merge(vendors_cleaned, on='vendor_id', how='left')"
   ]
  },
  {
   "cell_type": "markdown",
   "id": "4ba8607f",
   "metadata": {},
   "source": [
    "Feature Engineering on the Combined Dataset"
   ]
  },
  {
   "cell_type": "code",
   "execution_count": 17,
   "id": "f84ccdcb",
   "metadata": {},
   "outputs": [],
   "source": [
    "train_full['distance_km'] = np.sqrt((train_full['latitude'] - train_full['vendor_latitude'])**2 + (train_full['longitude'] - train_full['vendor_longitude'])**2)\n",
    "customer_agg = train_df.groupby('customer_id')['grand_total'].agg(['mean', 'count']).rename(columns={'mean': 'cust_avg_order_val', 'count': 'cust_order_count'})\n",
    "vendor_agg = train_df.groupby('vendor_id')['grand_total'].agg(['mean', 'count']).rename(columns={'mean': 'vendor_avg_order_val', 'count': 'vendor_order_count'})\n",
    "train_full = train_full.merge(customer_agg, on='customer_id', how='left')\n",
    "train_full = train_full.merge(vendor_agg, on='vendor_id', how='left')"
   ]
  },
  {
   "cell_type": "code",
   "execution_count": 18,
   "id": "0b222cac",
   "metadata": {},
   "outputs": [],
   "source": [
    "# Fill NaNs for all generated features\n",
    "for col in ['cust_avg_order_val', 'cust_order_count', 'vendor_avg_order_val', 'vendor_order_count', \n",
    "            'vendor_popularity_rank', 'customer_spending_rank', 'cust_mean_time_between_orders', \n",
    "            'cust_std_time_between_orders', 'cust_avg_hour', 'cust_avg_day', 'vendor_avg_hour', 'vendor_avg_day']:\n",
    "    train_full[col].fillna(0, inplace=True)"
   ]
  },
  {
   "cell_type": "markdown",
   "id": "07b3a036",
   "metadata": {},
   "source": [
    "Preparing data for the model"
   ]
  },
  {
   "cell_type": "code",
   "execution_count": 19,
   "id": "26428afe",
   "metadata": {},
   "outputs": [],
   "source": [
    "features = [\n",
    "    'age', 'account_age_days', 'gender_encoded', 'customer_spending_rank',\n",
    "    'cust_avg_order_val', 'cust_order_count', 'cust_mean_time_between_orders',\n",
    "    'cust_avg_hour', 'cust_avg_day',\n",
    "    'vendor_rating', 'serving_distance', 'prepration_time', 'vendor_tag_count',\n",
    "    'vendor_avg_order_val', 'vendor_order_count', 'vendor_popularity_rank',\n",
    "    'vendor_avg_hour', 'vendor_avg_day',\n",
    "    'distance_km'\n",
    "]\n",
    "target = 'target'\n",
    "X = train_full[features].astype('float32')\n",
    "y = train_full[target].astype('int8')"
   ]
  },
  {
   "cell_type": "markdown",
   "id": "fb6528b9",
   "metadata": {},
   "source": [
    "Searching for best hyperparameters with Optuna"
   ]
  },
  {
   "cell_type": "code",
   "execution_count": 20,
   "id": "048443fa",
   "metadata": {},
   "outputs": [],
   "source": [
    "def objective(trial):\n",
    "    # Define the search space for hyperparameters\n",
    "    params = {\n",
    "        'objective': 'binary',\n",
    "        'metric': 'auc',\n",
    "        'boosting_type': 'gbdt',\n",
    "        'n_estimators': 2000,\n",
    "        'seed': 42,\n",
    "        'n_jobs': -1,\n",
    "        'verbose': -1,\n",
    "        'learning_rate': trial.suggest_float('learning_rate', 0.01, 0.1, log=True),\n",
    "        'num_leaves': trial.suggest_int('num_leaves', 20, 100),\n",
    "        'max_depth': trial.suggest_int('max_depth', 3, 10),\n",
    "        'colsample_bytree': trial.suggest_float('colsample_bytree', 0.5, 1.0),\n",
    "        'subsample': trial.suggest_float('subsample', 0.5, 1.0),\n",
    "        'reg_alpha': trial.suggest_float('reg_alpha', 1e-2, 10.0, log=True),\n",
    "        'reg_lambda': trial.suggest_float('reg_lambda', 1e-2, 10.0, log=True),\n",
    "    }\n",
    "\n",
    "    # Use a single validation split for speed during optimization\n",
    "    X_train, X_val, y_train, y_val = train_test_split(X, y, test_size=0.2, random_state=42, stratify=y)\n",
    "    \n",
    "    model = lgb.LGBMClassifier(**params)\n",
    "    model.fit(X_train, y_train,\n",
    "              eval_set=[(X_val, y_val)],\n",
    "              eval_metric='auc',\n",
    "              callbacks=[lgb.early_stopping(100, verbose=False)])\n",
    "    \n",
    "    preds = model.predict_proba(X_val)[:, 1]\n",
    "    # Optimize for F1-score directly\n",
    "    f1 = f1_score(y_val, (preds > 0.5).astype(int)) # Using a fixed threshold during optimization\n",
    "    return f1"
   ]
  },
  {
   "cell_type": "code",
   "execution_count": 21,
   "id": "949b95af",
   "metadata": {},
   "outputs": [
    {
     "name": "stdout",
     "output_type": "stream",
     "text": [
      "Best trial F1-Score: 0.8006\n",
      "Best hyperparameters found by Optuna:\n",
      "{'learning_rate': 0.09770743989680095, 'num_leaves': 87, 'max_depth': 10, 'colsample_bytree': 0.972686471143885, 'subsample': 0.707145188107552, 'reg_alpha': 0.6061466743895735, 'reg_lambda': 0.0590723910015536}\n"
     ]
    }
   ],
   "source": [
    "\n",
    "# Create a study object and optimize the objective function.\n",
    "study = optuna.create_study(direction='maximize')\n",
    "study.optimize(objective, n_trials=50) # Run 50 trials to find good parameters\n",
    "\n",
    "print(f\"Best trial F1-Score: {study.best_value:.4f}\")\n",
    "print(\"Best hyperparameters found by Optuna:\")\n",
    "best_params = study.best_params\n",
    "print(best_params)"
   ]
  },
  {
   "cell_type": "markdown",
   "id": "dd97000d",
   "metadata": {},
   "source": [
    "Train Final Model with Best Hyperparameters"
   ]
  },
  {
   "cell_type": "code",
   "execution_count": 22,
   "id": "5cf26d90",
   "metadata": {},
   "outputs": [],
   "source": [
    "# Add static params to the best ones found by Optuna\n",
    "final_params = {\n",
    "    'objective': 'binary', 'metric': 'auc', 'boosting_type': 'gbdt',\n",
    "    'n_estimators': 2000, 'seed': 42, 'n_jobs': -1, 'verbose': -1,\n",
    "}\n",
    "final_params.update(best_params)"
   ]
  },
  {
   "cell_type": "code",
   "execution_count": 23,
   "id": "7e4fdc70",
   "metadata": {},
   "outputs": [],
   "source": [
    "N_SPLITS = 5\n",
    "skf = StratifiedKFold(n_splits=N_SPLITS, shuffle=True, random_state=42)\n",
    "oof_preds = np.zeros(len(X))\n",
    "test_preds = 0\n",
    "models = []\n",
    "feature_importances = pd.DataFrame(index=features)"
   ]
  },
  {
   "cell_type": "code",
   "execution_count": 24,
   "id": "977b84f6",
   "metadata": {},
   "outputs": [
    {
     "name": "stdout",
     "output_type": "stream",
     "text": [
      "===== Fold 1 =====\n",
      "===== Fold 2 =====\n",
      "===== Fold 3 =====\n",
      "===== Fold 4 =====\n",
      "===== Fold 5 =====\n"
     ]
    }
   ],
   "source": [
    "for fold, (train_idx, val_idx) in enumerate(skf.split(X, y)):\n",
    "    print(f\"===== Fold {fold+1} =====\")\n",
    "    X_train, y_train = X.iloc[train_idx], y.iloc[train_idx]\n",
    "    X_val, y_val = X.iloc[val_idx], y.iloc[val_idx]\n",
    "    \n",
    "    model = lgb.LGBMClassifier(**final_params)\n",
    "    model.fit(X_train, y_train,\n",
    "              eval_set=[(X_val, y_val)],\n",
    "              eval_metric='auc',\n",
    "              callbacks=[lgb.early_stopping(150, verbose=False)])\n",
    "    \n",
    "    oof_preds[val_idx] = model.predict_proba(X_val)[:, 1]\n",
    "    feature_importances[f'fold_{fold+1}'] = model.feature_importances_\n",
    "    models.append(model)\n",
    "    \n",
    "    if fold == 0:\n",
    "        test_df_base = pd.DataFrame(np.array(np.meshgrid(test_customers['customer_id'].unique(), all_vendor_ids)).T.reshape(-1, 2), columns=['customer_id', 'vendor_id'])\n",
    "        test_df = test_customers.merge(test_locations, on='customer_id').merge(test_df_base, on='customer_id', how='left')\n",
    "        test_df = test_df.merge(customers_cleaned, on='customer_id', how='left')\n",
    "        test_df = test_df.merge(vendors_cleaned, on='vendor_id', how='left')\n",
    "        test_df['distance_km'] = np.sqrt((test_df['latitude'] - test_df['vendor_latitude'])**2 + (test_df['longitude'] - test_df['vendor_longitude'])**2)\n",
    "        test_df = test_df.merge(customer_agg, on='customer_id', how='left')\n",
    "        test_df = test_df.merge(vendor_agg, on='vendor_id', how='left')\n",
    "        \n",
    "        for col in ['cust_avg_order_val', 'cust_order_count', 'vendor_avg_order_val', 'vendor_order_count', \n",
    "                    'vendor_popularity_rank', 'customer_spending_rank', 'cust_mean_time_between_orders', \n",
    "                    'cust_std_time_between_orders', 'cust_avg_hour', 'cust_avg_day', 'vendor_avg_hour', 'vendor_avg_day']:\n",
    "            test_df[col].fillna(0, inplace=True)\n",
    "        X_test = test_df[features].astype('float32')\n",
    "        \n",
    "    test_preds += model.predict_proba(X_test)[:, 1] / N_SPLITS"
   ]
  },
  {
   "cell_type": "markdown",
   "id": "f150f3af",
   "metadata": {},
   "source": [
    "Optimizing prediction threshold for F1-Score"
   ]
  },
  {
   "cell_type": "code",
   "execution_count": 25,
   "id": "1b0db038",
   "metadata": {},
   "outputs": [
    {
     "name": "stdout",
     "output_type": "stream",
     "text": [
      "Best threshold found: 0.44 (with F1-Score: 0.8035)\n"
     ]
    }
   ],
   "source": [
    "best_f1 = 0\n",
    "best_threshold = 0\n",
    "for threshold in np.arange(0.1, 0.51, 0.01):\n",
    "    preds = (oof_preds > threshold).astype(int)\n",
    "    f1 = f1_score(y, preds)\n",
    "    if f1 > best_f1:\n",
    "        best_f1 = f1\n",
    "        best_threshold = threshold\n",
    "print(f\"Best threshold found: {best_threshold:.2f} (with F1-Score: {best_f1:.4f})\")"
   ]
  },
  {
   "cell_type": "markdown",
   "id": "68fa108f",
   "metadata": {},
   "source": [
    "Evaluating final model performance with optimal threshold"
   ]
  },
  {
   "cell_type": "code",
   "execution_count": 26,
   "id": "5cb6a2c0",
   "metadata": {},
   "outputs": [
    {
     "name": "stdout",
     "output_type": "stream",
     "text": [
      "\n",
      "--- Final Model Performance -------\n",
      "AUC Score: 0.9308\n",
      "Precision: 0.7994\n",
      "Recall:    0.8076\n",
      "F1-Score:  0.8035\n"
     ]
    }
   ],
   "source": [
    "y_pred_binary_optimized = (oof_preds >= best_threshold).astype(int)\n",
    "auc_score = roc_auc_score(y, oof_preds)\n",
    "precision = precision_score(y, y_pred_binary_optimized)\n",
    "recall = recall_score(y, y_pred_binary_optimized)\n",
    "f1 = f1_score(y, y_pred_binary_optimized)\n",
    "\n",
    "print(\"\\n--- Final Model Performance -------\")\n",
    "print(f\"AUC Score: {auc_score:.4f}\")\n",
    "print(f\"Precision: {precision:.4f}\")\n",
    "print(f\"Recall:    {recall:.4f}\")\n",
    "print(f\"F1-Score:  {f1:.4f}\")"
   ]
  },
  {
   "cell_type": "code",
   "execution_count": 27,
   "id": "cb810ee5",
   "metadata": {},
   "outputs": [
    {
     "data": {
      "image/png": "[encoded data removed]",
      "text/plain": [
       "<Figure size 800x500 with 1 Axes>"
      ]
     },
     "metadata": {},
     "output_type": "display_data"
    }
   ],
   "source": [
    "import matplotlib.pyplot as plt\n",
    "\n",
    "# Define metrics\n",
    "metrics = {\n",
    "    'AUC Score': auc_score,\n",
    "    'Precision': precision,\n",
    "    'Recall': recall,\n",
    "    'F1-Score': f1\n",
    "}\n",
    "\n",
    "# Plot\n",
    "plt.figure(figsize=(8, 5))\n",
    "plt.bar(metrics.keys(), metrics.values(), color=['skyblue', 'lightgreen', 'orange', 'salmon'])\n",
    "plt.ylim(0, 1)\n",
    "plt.ylabel('Score')\n",
    "plt.title('Final Model Performance Metrics')\n",
    "plt.grid(axis='y', linestyle='--', alpha=0.7)\n",
    "\n",
    "# Add score values on top of bars\n",
    "for i, (metric, score) in enumerate(metrics.items()):\n",
    "    plt.text(i, score + 0.02, f\"{score:.4f}\", ha='center', va='bottom', fontsize=10)\n",
    "\n",
    "plt.tight_layout()\n",
    "plt.show()\n"
   ]
  },
  {
   "cell_type": "markdown",
   "id": "f817beea",
   "metadata": {},
   "source": [
    "--- Final Model Performance -------\n",
    "\n",
    "`AUC Score`: 0.9308\n",
    "\n",
    "`Precision`: 0.7994\n",
    "\n",
    "`Recall`:    0.8076\n",
    "\n",
    "`F1-Score`:  0.8035"
   ]
  },
  {
   "cell_type": "code",
   "execution_count": 28,
   "id": "91aafedc",
   "metadata": {},
   "outputs": [
    {
     "name": "stdout",
     "output_type": "stream",
     "text": [
      "\n",
      "Script finished successfully!\n",
      "The submission file 'submission_final_optuna.csv' has been generated.\n"
     ]
    }
   ],
   "source": [
    "submission_df = test_df[['customer_id', 'location_number', 'vendor_id']].copy()\n",
    "submission_df['target'] = test_preds\n",
    "submission_df['CID X LOC_NUM X VENDOR'] = submission_df['customer_id'].astype(str) + ' X ' + submission_df['location_number'].astype(str) + ' X ' + submission_df['vendor_id'].astype(str)\n",
    "final_submission = submission_df[['CID X LOC_NUM X VENDOR', 'target']]\n",
    "final_submission.to_csv('submission_final_optuna.csv', index=False)\n",
    "\n",
    "print(\"\\nScript finished successfully!\")\n",
    "print(\"The submission file 'submission_final_optuna.csv' has been generated.\")"
   ]
  },
  {
   "cell_type": "code",
   "execution_count": null,
   "id": "1d5713f8",
   "metadata": {},
   "outputs": [],
   "source": []
  },
  {
   "cell_type": "code",
   "execution_count": null,
   "id": "82ccca09",
   "metadata": {},
   "outputs": [],
   "source": []
  }
 ],
 "metadata": {
  "kernelspec": {
   "display_name": "Python 3",
   "language": "python",
   "name": "python3"
  },
  "language_info": {
   "codemirror_mode": {
    "name": "ipython",
    "version": 3
   },
   "file_extension": ".py",
   "mimetype": "text/x-python",
   "name": "python",
   "nbconvert_exporter": "python",
   "pygments_lexer": "ipython3",
   "version": "3.13.1"
  }
 },
 "nbformat": 4,
 "nbformat_minor": 5
}
